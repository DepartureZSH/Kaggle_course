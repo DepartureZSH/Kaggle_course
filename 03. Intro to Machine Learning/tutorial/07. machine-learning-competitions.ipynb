{
 "cells": [
  {
   "cell_type": "markdown",
   "id": "adc856bb",
   "metadata": {
    "papermill": {
     "duration": 0.00383,
     "end_time": "2021-11-09T00:03:02.318453",
     "exception": false,
     "start_time": "2021-11-09T00:03:02.314623",
     "status": "completed"
    },
    "tags": []
   },
   "source": [
    "Machine learning competitions are a great way to improve your data science skills and measure your progress. \n",
    "\n",
    "In the next exercise, you will create and submit predictions for the [House Prices Competition for Kaggle Learn Users](https://www.kaggle.com/c/home-data-for-ml-course). \n",
    "\n",
    "![join competition image](https://i.imgur.com/axBzctl.png)\n",
    "\n",
    "# Your Turn \n",
    "Use what you've learned in the course to **[create a submission](https://www.kaggle.com/kernels/fork/1259198)** to a Kaggle competition!"
   ]
  },
  {
   "cell_type": "markdown",
   "id": "94b7cbec",
   "metadata": {
    "papermill": {
     "duration": 0.002299,
     "end_time": "2021-11-09T00:03:02.323917",
     "exception": false,
     "start_time": "2021-11-09T00:03:02.321618",
     "status": "completed"
    },
    "tags": []
   },
   "source": [
    "---\n",
    "\n",
    "\n",
    "\n",
    "\n",
    "*Have questions or comments? Visit the [course discussion forum](https://www.kaggle.com/learn/intro-to-machine-learning/discussion) to chat with other learners.*"
   ]
  }
 ],
 "metadata": {
  "kernelspec": {
   "display_name": "Python 3",
   "language": "python",
   "name": "python3"
  },
  "language_info": {
   "codemirror_mode": {
    "name": "ipython",
    "version": 3
   },
   "file_extension": ".py",
   "mimetype": "text/x-python",
   "name": "python",
   "nbconvert_exporter": "python",
   "pygments_lexer": "ipython3",
   "version": "3.7.10"
  },
  "papermill": {
   "default_parameters": {},
   "duration": 11.078893,
   "end_time": "2021-11-09T00:03:03.242914",
   "environment_variables": {},
   "exception": null,
   "input_path": "__notebook__.ipynb",
   "output_path": "__notebook__.ipynb",
   "parameters": {},
   "start_time": "2021-11-09T00:02:52.164021",
   "version": "2.3.3"
  }
 },
 "nbformat": 4,
 "nbformat_minor": 5
}
