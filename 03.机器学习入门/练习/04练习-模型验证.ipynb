{
 "cells": [
  {
   "cell_type": "markdown",
   "metadata": {},
   "source": [
    "**This notebook is an exercise in the [Introduction to Machine Learning](https://www.kaggle.com/learn/intro-to-machine-learning) course.  You can reference the tutorial at [this link](https://www.kaggle.com/dansbecker/model-validation).**\n",
    "\n",
    "---\n"
   ]
  },
  {
   "cell_type": "markdown",
   "metadata": {},
   "source": [
    "## 回顾\n",
    "\n",
    "您已经建立了一个模型。在这个练习中，您将测试您的模型有多好。\n",
    "\n",
    "运行下面的单元格，在前面的练习中断的地方设置编码环境。"
   ]
  },
  {
   "cell_type": "code",
   "execution_count": 1,
   "metadata": {
    "execution": {
     "iopub.execute_input": "2022-06-27T17:36:58.651531Z",
     "iopub.status.busy": "2022-06-27T17:36:58.650811Z",
     "iopub.status.idle": "2022-06-27T17:37:00.144810Z",
     "shell.execute_reply": "2022-06-27T17:37:00.143663Z",
     "shell.execute_reply.started": "2022-06-27T17:36:58.651406Z"
    }
   },
   "outputs": [],
   "source": [
    "# 以前用于加载数据的代码\n",
    "import pandas as pd\n",
    "from sklearn.tree import DecisionTreeRegressor\n",
    "\n",
    "# Path of the file to read\n",
    "iowa_file_path = '../input/home-data-for-ml-course/train.csv'\n",
    "\n",
    "home_data = pd.read_csv(iowa_file_path)\n",
    "y = home_data.SalePrice\n",
    "feature_columns = ['LotArea', 'YearBuilt', '1stFlrSF', '2ndFlrSF', 'FullBath', 'BedroomAbvGr', 'TotRmsAbvGrd']\n",
    "X = home_data[feature_columns]\n",
    "\n",
    "# Specify Model\n",
    "iowa_model = DecisionTreeRegressor()\n",
    "# Fit Model\n",
    "iowa_model.fit(X, y)\n",
    "\n",
    "print(\"First in-sample predictions:\", iowa_model.predict(X.head()))\n",
    "print(\"Actual target values for those homes:\", y.head().tolist())\n",
    "\n",
    "# Set up code checking\n",
    "from learntools.core import binder\n",
    "binder.bind(globals())\n",
    "from learntools.machine_learning.ex4 import *\n",
    "print(\"Setup Complete\")"
   ]
  },
  {
   "cell_type": "markdown",
   "metadata": {},
   "source": [
    "# 练习\n",
    "\n",
    "## 步骤1: 拆分数据\n",
    "\n",
    "使用 `train _ test _ split` 函数分割数据。\n",
    "\n",
    "给它一个参数 `Random_state = 1`，这样 `check` 函数就知道在验证代码时会遇到什么情况。\n",
    "\n",
    "回想一下，您的特征加载在 DataFrame **X** 中，而您的目标加载在 **y** 中。\n"
   ]
  },
  {
   "cell_type": "code",
   "execution_count": 4,
   "metadata": {
    "execution": {
     "iopub.execute_input": "2022-06-27T17:38:36.076684Z",
     "iopub.status.busy": "2022-06-27T17:38:36.076256Z",
     "iopub.status.idle": "2022-06-27T17:38:36.089753Z",
     "shell.execute_reply": "2022-06-27T17:38:36.088729Z",
     "shell.execute_reply.started": "2022-06-27T17:38:36.076650Z"
    }
   },
   "outputs": [],
   "source": [
    "# 导入 train_test_split 函数并取消注释\n",
    "from sklearn.model_selection import train_test_split\n",
    "\n",
    "# 填写和取消评论\n",
    "train_X, val_X, train_y, val_y = train_test_split(X, y, random_state=1)\n",
    "\n",
    "# Check your answer\n",
    "step_1.check()"
   ]
  },
  {
   "cell_type": "code",
   "execution_count": null,
   "metadata": {},
   "outputs": [],
   "source": [
    "# The lines below will show you a hint or the solution.\n",
    "# step_1.hint() \n",
    "# step_1.solution()\n"
   ]
  },
  {
   "cell_type": "markdown",
   "metadata": {},
   "source": [
    "## 步骤二：指定模型并拟合\n",
    "\n",
    "创建一个`DecisionTreeRegressor`模型，并将其与相关数据进行匹配。\n",
    "\n",
    "在创建模型时，再次将 `random_state` 设置为1。"
   ]
  },
  {
   "cell_type": "code",
   "execution_count": 7,
   "metadata": {
    "execution": {
     "iopub.execute_input": "2022-06-27T17:42:07.650882Z",
     "iopub.status.busy": "2022-06-27T17:42:07.650495Z",
     "iopub.status.idle": "2022-06-27T17:42:07.680082Z",
     "shell.execute_reply": "2022-06-27T17:42:07.678907Z",
     "shell.execute_reply.started": "2022-06-27T17:42:07.650851Z"
    }
   },
   "outputs": [],
   "source": [
    "# 您在上一个练习中导入了 DecisionTreeRegressor，\n",
    "# 该代码已被复制到上面的安装代码中。\n",
    "# 所以，没有必要再次导入它\n",
    "from sklearn.tree import DecisionTreeRegressor\n",
    "\n",
    "# 指定模型\n",
    "iowa_model = DecisionTreeRegressor(random_state=1)\n",
    "\n",
    "# 用训练数据拟合iowa_model\n",
    "iowa_model.fit(train_X, train_y)\n",
    "\n",
    "# Check your answer\n",
    "step_2.check()"
   ]
  },
  {
   "cell_type": "code",
   "execution_count": null,
   "metadata": {},
   "outputs": [],
   "source": [
    "# step_2.hint()\n",
    "# step_2.solution()"
   ]
  },
  {
   "cell_type": "markdown",
   "metadata": {},
   "source": [
    "## 步骤3: 使用验证数据进行预测"
   ]
  },
  {
   "cell_type": "code",
   "execution_count": 8,
   "metadata": {
    "execution": {
     "iopub.execute_input": "2022-06-27T17:42:21.554709Z",
     "iopub.status.busy": "2022-06-27T17:42:21.554336Z",
     "iopub.status.idle": "2022-06-27T17:42:21.566041Z",
     "shell.execute_reply": "2022-06-27T17:42:21.565222Z",
     "shell.execute_reply.started": "2022-06-27T17:42:21.554678Z"
    }
   },
   "outputs": [],
   "source": [
    "# 使用所有验证观察值进行预测\n",
    "val_predictions = iowa_model.predict(val_X)\n",
    "\n",
    "# Check your answer\n",
    "step_3.check()"
   ]
  },
  {
   "cell_type": "code",
   "execution_count": null,
   "metadata": {},
   "outputs": [],
   "source": [
    "# step_3.hint()\n",
    "# step_3.solution()"
   ]
  },
  {
   "cell_type": "markdown",
   "metadata": {},
   "source": [
    "检查验证数据中的预测值和实际值。"
   ]
  },
  {
   "cell_type": "code",
   "execution_count": 11,
   "metadata": {
    "execution": {
     "iopub.execute_input": "2022-06-27T17:43:18.377042Z",
     "iopub.status.busy": "2022-06-27T17:43:18.376671Z",
     "iopub.status.idle": "2022-06-27T17:43:18.383675Z",
     "shell.execute_reply": "2022-06-27T17:43:18.382422Z",
     "shell.execute_reply.started": "2022-06-27T17:43:18.377012Z"
    }
   },
   "outputs": [],
   "source": [
    "# 打印最有效的几个预测\n",
    "print(val_predictions[:5])\n",
    "# 从验证数据中打印最高的几个实际价格\n",
    "print(val_y[:5])"
   ]
  },
  {
   "cell_type": "markdown",
   "metadata": {},
   "source": [
    "您注意到了哪些与示例内预测(在本页顶部代码单元格之后打印)不同的地方。\n",
    "\n",
    "您还记得为什么验证预测不同于样本内(或训练)预测吗？这是上节课的一个重要思想。\n",
    "\n",
    "## 步骤4: 计算验证数据中的平均绝对误差"
   ]
  },
  {
   "cell_type": "code",
   "execution_count": 12,
   "metadata": {
    "execution": {
     "iopub.execute_input": "2022-06-27T17:44:29.016799Z",
     "iopub.status.busy": "2022-06-27T17:44:29.016358Z",
     "iopub.status.idle": "2022-06-27T17:44:29.029227Z",
     "shell.execute_reply": "2022-06-27T17:44:29.028250Z",
     "shell.execute_reply.started": "2022-06-27T17:44:29.016764Z"
    }
   },
   "outputs": [],
   "source": [
    "from sklearn.metrics import mean_absolute_error\n",
    "val_mae = mean_absolute_error(val_predictions, val_y)\n",
    "\n",
    "# 取消注释以查看 valid_mae\n",
    "print(val_mae)\n",
    "\n",
    "# Check your answer\n",
    "step_4.check()"
   ]
  },
  {
   "cell_type": "code",
   "execution_count": null,
   "metadata": {},
   "outputs": [],
   "source": [
    "# step_4.hint()\n",
    "# step_4.solution()"
   ]
  },
  {
   "cell_type": "markdown",
   "metadata": {},
   "source": [
    "MAE 好吗？没有一个适用于应用程序的通用规则来说明什么值是好的。但是您将在下一步中看到如何使用(和改进)这个数字。\n",
    "\n",
    "# 继续\n",
    "\n",
    "你已经准备好进入 **[欠拟合和过拟合](https://www.kaggle.com/dansbecker/underfitting-and-overfitting).**\n"
   ]
  },
  {
   "cell_type": "markdown",
   "metadata": {},
   "source": [
    "---\n",
    "\n",
    "\n",
    "\n",
    "\n",
    "*Have questions or comments? Visit the [course discussion forum](https://www.kaggle.com/learn/intro-to-machine-learning/discussion) to chat with other learners.*"
   ]
  }
 ],
 "metadata": {
  "kernelspec": {
   "display_name": "Python 3",
   "language": "python",
   "name": "python3"
  },
  "language_info": {
   "codemirror_mode": {
    "name": "ipython",
    "version": 3
   },
   "file_extension": ".py",
   "mimetype": "text/x-python",
   "name": "python",
   "nbconvert_exporter": "python",
   "pygments_lexer": "ipython3",
   "version": "3.8.8"
  }
 },
 "nbformat": 4,
 "nbformat_minor": 4
}
