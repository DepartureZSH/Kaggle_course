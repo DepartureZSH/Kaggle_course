{
 "cells": [
  {
   "cell_type": "markdown",
   "metadata": {},
   "source": [
    "**This notebook is an exercise in the [Introduction to Machine Learning](https://www.kaggle.com/learn/intro-to-machine-learning) course.  You can reference the tutorial at [this link](https://www.kaggle.com/alexisbcook/machine-learning-competitions).**\n",
    "\n",
    "---\n"
   ]
  },
  {
   "cell_type": "markdown",
   "metadata": {},
   "source": [
    "# 介绍\n",
    "\n",
    "在这个练习中，您将创建并提交 Kaggle 竞赛的预测。然后你可以改进你的模型(例如通过增加特性)来应用你所学到的东西并提升你的排行榜。\n",
    "\n",
    "首先运行下面的代码单元格以设置数据集的代码检查和文件路径。"
   ]
  },
  {
   "cell_type": "code",
   "execution_count": null,
   "metadata": {
    "execution": {
     "iopub.execute_input": "2022-06-28T16:37:40.489056Z",
     "iopub.status.busy": "2022-06-28T16:37:40.48861Z",
     "iopub.status.idle": "2022-06-28T16:37:40.559879Z",
     "shell.execute_reply": "2022-06-28T16:37:40.558682Z",
     "shell.execute_reply.started": "2022-06-28T16:37:40.488963Z"
    }
   },
   "outputs": [],
   "source": [
    "# Set up code checking\n",
    "from learntools.core import binder\n",
    "binder.bind(globals())\n",
    "from learntools.machine_learning.ex7 import *\n",
    "\n",
    "# Set up filepaths\n",
    "import os\n",
    "if not os.path.exists(\"../input/train.csv\"):\n",
    "    os.symlink(\"../input/home-data-for-ml-course/train.csv\", \"../input/train.csv\")  \n",
    "    os.symlink(\"../input/home-data-for-ml-course/test.csv\", \"../input/test.csv\") "
   ]
  },
  {
   "cell_type": "markdown",
   "metadata": {},
   "source": [
    "以下是目前为止您编写的一些代码。"
   ]
  },
  {
   "cell_type": "code",
   "execution_count": null,
   "metadata": {
    "execution": {
     "iopub.execute_input": "2022-06-28T16:37:44.351886Z",
     "iopub.status.busy": "2022-06-28T16:37:44.351478Z",
     "iopub.status.idle": "2022-06-28T16:37:45.710181Z",
     "shell.execute_reply": "2022-06-28T16:37:45.709042Z",
     "shell.execute_reply.started": "2022-06-28T16:37:44.351853Z"
    }
   },
   "outputs": [],
   "source": [
    "# Import helpful libraries\n",
    "import pandas as pd\n",
    "from sklearn.ensemble import RandomForestRegressor\n",
    "from sklearn.metrics import mean_absolute_error\n",
    "from sklearn.model_selection import train_test_split\n",
    "\n",
    "# Load the data, and separate the target\n",
    "iowa_file_path = '../input/train.csv'\n",
    "home_data = pd.read_csv(iowa_file_path)\n",
    "y = home_data.SalePrice\n",
    "\n",
    "# Create X (After completing the exercise, you can return to modify this line!)\n",
    "features = ['LotArea', 'YearBuilt', '1stFlrSF', '2ndFlrSF', 'FullBath', 'BedroomAbvGr', 'TotRmsAbvGrd']\n",
    "\n",
    "# Select columns corresponding to features, and preview the data\n",
    "X = home_data[features]\n",
    "X.head()\n",
    "\n",
    "# Split into validation and training data\n",
    "train_X, val_X, train_y, val_y = train_test_split(X, y, random_state=1)\n",
    "\n",
    "# Define a random forest model\n",
    "rf_model = RandomForestRegressor(random_state=1)\n",
    "rf_model.fit(train_X, train_y)\n",
    "rf_val_predictions = rf_model.predict(val_X)\n",
    "rf_val_mae = mean_absolute_error(rf_val_predictions, val_y)\n",
    "\n",
    "print(\"Validation MAE for Random Forest Model: {:,.0f}\".format(rf_val_mae))"
   ]
  },
  {
   "cell_type": "markdown",
   "metadata": {},
   "source": [
    "# 为比赛训练模型\n",
    "\n",
    "上面的代码单元在 **`train_X`** 和 **`train_y`** 上训练一个随机森林模型。\n",
    "\n",
    "使用下面的代码单元格来构建随机森林模型，并在所有 **`X`** 和 **`y`** 上对其进行训练。"
   ]
  },
  {
   "cell_type": "code",
   "execution_count": null,
   "metadata": {
    "execution": {
     "iopub.execute_input": "2022-06-28T16:38:03.958409Z",
     "iopub.status.busy": "2022-06-28T16:38:03.957983Z",
     "iopub.status.idle": "2022-06-28T16:38:04.463138Z",
     "shell.execute_reply": "2022-06-28T16:38:04.462253Z",
     "shell.execute_reply.started": "2022-06-28T16:38:03.958372Z"
    }
   },
   "outputs": [],
   "source": [
    "# To improve accuracy, create a new Random Forest model which you will train on all training data\n",
    "rf_model_on_full_data = RandomForestRegressor(random_state=1)\n",
    "\n",
    "# fit rf_model_on_full_data on all data from the training data\n",
    "rf_model.fit(X, y)"
   ]
  },
  {
   "cell_type": "markdown",
   "metadata": {},
   "source": [
    "现在，阅读“测试”数据文件，并应用您的模型进行预测。"
   ]
  },
  {
   "cell_type": "code",
   "execution_count": null,
   "metadata": {
    "execution": {
     "iopub.execute_input": "2022-06-28T16:39:41.756001Z",
     "iopub.status.busy": "2022-06-28T16:39:41.755612Z",
     "iopub.status.idle": "2022-06-28T16:39:41.81885Z",
     "shell.execute_reply": "2022-06-28T16:39:41.817676Z",
     "shell.execute_reply.started": "2022-06-28T16:39:41.755967Z"
    }
   },
   "outputs": [],
   "source": [
    "# path to file you will use for predictions\n",
    "test_data_path = '../input/test.csv'\n",
    "\n",
    "# read test data file using pandas\n",
    "test_data = pd.read_csv(test_data_path)\n",
    "\n",
    "# create test_X which comes from test_data but includes only the columns you used for prediction.\n",
    "# The list of columns is stored in a variable called features\n",
    "features = ['LotArea', 'YearBuilt', '1stFlrSF', '2ndFlrSF', 'FullBath', 'BedroomAbvGr', 'TotRmsAbvGrd']\n",
    "test_X = test_data[features]\n",
    "\n",
    "# make predictions which we will submit. \n",
    "test_preds = rf_model.predict(test_X)"
   ]
  },
  {
   "cell_type": "markdown",
   "metadata": {},
   "source": [
    "在提交之前，运行一个检查，以确保您的 `test_preds` 有正确的格式。"
   ]
  },
  {
   "cell_type": "code",
   "execution_count": null,
   "metadata": {
    "execution": {
     "iopub.execute_input": "2022-06-28T16:39:45.206359Z",
     "iopub.status.busy": "2022-06-28T16:39:45.205957Z",
     "iopub.status.idle": "2022-06-28T16:39:45.214871Z",
     "shell.execute_reply": "2022-06-28T16:39:45.213832Z",
     "shell.execute_reply.started": "2022-06-28T16:39:45.206323Z"
    }
   },
   "outputs": [],
   "source": [
    "# Check your answer (To get credit for completing the exercise, you must get a \"Correct\" result!)\n",
    "step_1.check()\n",
    "# step_1.solution()"
   ]
  },
  {
   "cell_type": "markdown",
   "metadata": {},
   "source": [
    "# 生成提交\n",
    "\n",
    "运行下面的代码单元格以生成一个 CSV 文件，其中包含您的预测，您可以使用这些预测来提交给kaggle竞赛。"
   ]
  },
  {
   "cell_type": "code",
   "execution_count": null,
   "metadata": {
    "execution": {
     "iopub.execute_input": "2022-06-28T16:39:49.879331Z",
     "iopub.status.busy": "2022-06-28T16:39:49.878922Z",
     "iopub.status.idle": "2022-06-28T16:39:49.890005Z",
     "shell.execute_reply": "2022-06-28T16:39:49.888627Z",
     "shell.execute_reply.started": "2022-06-28T16:39:49.879297Z"
    }
   },
   "outputs": [],
   "source": [
    "# Run the code to save predictions in the format used for competition scoring\n",
    "\n",
    "output = pd.DataFrame({'Id': test_data.Id,\n",
    "                       'SalePrice': test_preds})\n",
    "output.to_csv('submission.csv', index=False)"
   ]
  },
  {
   "cell_type": "markdown",
   "metadata": {},
   "source": [
    "# 提交比赛\n",
    "\n",
    "为了测试你的结果，你需要加入比赛（如果你还没有加入比赛）。点击这个 **[链接](https://www.kaggle.com/c/home-data-for-ml-course)** 打开一个新窗口，然后点击 **加入比赛** 按钮。\n",
    "\n",
    "![join competition image](https://images.weserv.nl/?url=i.imgur.com/axBzctl.png)\n",
    "\n",
    "然后，按照以下步骤操作：\n",
    "\n",
    "1. 首先点击窗口右上角的 **Save Version** 按钮，这将生成一个弹出窗口。\n",
    "2. 确保已选中 **Save and Run All** 选项，然后点击 **Save** 按钮。\n",
    "3. 这将在笔记本的左下角生成一个窗口。等它运行完毕后，点击 **Save Version** 按钮右侧的编号。这将在屏幕右侧显示一个版本列表。点击最近版本右侧的省略号 **(...)**，选择 **Open in Viewer**。这将带你进入相同页面的查看模式。你需要滚动页面回到这些操作指示。\n",
    "4. 点击屏幕右侧的 **Output** 选项卡。然后，点击你想要提交的文件，再点击 **Submit** 按钮，将你的结果提交至排行榜。\n",
    "\n",
    "你已成功提交比赛！\n",
    "\n",
    "如果你想继续努力改善表现，可在屏幕右上方选择“编辑”按钮。然后可以更改代码并重复此过程。你有很大的提升空间，在不断努力中你会在排行榜上上升。\n",
    "\n",
    "# 继续进步\n",
    "\n",
    "有很多方法可以改进你的模型，在这一点上，**实验是一个很好的学习方法**。\n",
    "\n",
    "改进模型的最佳方法是添加特征。若要向数据中添加更多特征，请重新访问第一个代码单元格，并更改此代码行以包含更多列名:\n",
    "\n",
    "```python\n",
    "features = ['LotArea', 'YearBuilt', '1stFlrSF', '2ndFlrSF', 'FullBath', 'BedroomAbvGr', 'TotRmsAbvGrd']\n",
    "```\n",
    "\n",
    "由于缺少值或非数值数据类型等问题，某些特性将导致错误。下面是您可能希望使用的、不会抛出错误的潜在列的完整列表:\n",
    "\n",
    "- 'MSSubClass'\n",
    "- 'LotArea'\n",
    "- 'OverallQual' \n",
    "- 'OverallCond' \n",
    "- 'YearBuilt'\n",
    "- 'YearRemodAdd' \n",
    "- '1stFlrSF'\n",
    "- '2ndFlrSF' \n",
    "- 'LowQualFinSF' \n",
    "- 'GrLivArea'\n",
    "- 'FullBath'\n",
    "- 'HalfBath'\n",
    "- 'BedroomAbvGr' \n",
    "- 'KitchenAbvGr' \n",
    "- 'TotRmsAbvGrd' \n",
    "- 'Fireplaces' \n",
    "- 'WoodDeckSF' \n",
    "- 'OpenPorchSF'\n",
    "- 'EnclosedPorch' \n",
    "- '3SsnPorch' \n",
    "- 'ScreenPorch' \n",
    "- 'PoolArea' \n",
    "- 'MiscVal' \n",
    "- 'MoSold' \n",
    "- 'YrSold'\n",
    "\n",
    "看看专栏列表，想想什么可能会影响房价。要了解更多关于这些特征的信息，可以查看 **[比赛页面]( https://www.kaggle.com/c/home-data-for-ml-course/data )** 上的数据描述。\n",
    "\n",
    "在更新上面定义特征的代码单元格之后，重新运行所有的代码单元格以评估模型并生成一个新的提交文件。\n",
    "\n",
    "# 下一步?\n",
    "\n",
    "如上所述，如果您试图使用某些特征来训练模型，那么它们中的一些将抛出错误。**[中级机器学习课程](https://www.kaggle.com/learn/intermediate-machine-learning)** 将教你如何处理这些类型的特征。您还将学习使用 **xgboost**，这种技术提供了比随机森林更好的准确性。\n",
    "\n",
    "**[Pandas](https://kaggle.com/Learn/Pandas)** 课程将会给你数据处理技巧，让你在数据科学项目中快速地从概念想法到实现。\n",
    "\n",
    "你也准备好了**[深度学习](https://kaggle.com/Learn/intro-to-Deep-Learning)**课程，在那里你将建立在计算机视觉任务上比人类表现更好的模型。"
   ]
  },
  {
   "cell_type": "markdown",
   "metadata": {},
   "source": [
    "---\n",
    "\n",
    "\n",
    "\n",
    "\n",
    "*Have questions or comments? Visit the [course discussion forum](https://www.kaggle.com/learn/intro-to-machine-learning/discussion) to chat with other learners.*"
   ]
  }
 ],
 "metadata": {
  "kernelspec": {
   "display_name": "Python 3",
   "language": "python",
   "name": "python3"
  },
  "language_info": {
   "codemirror_mode": {
    "name": "ipython",
    "version": 3
   },
   "file_extension": ".py",
   "mimetype": "text/x-python",
   "name": "python",
   "nbconvert_exporter": "python",
   "pygments_lexer": "ipython3",
   "version": "3.8.8"
  }
 },
 "nbformat": 4,
 "nbformat_minor": 4
}
