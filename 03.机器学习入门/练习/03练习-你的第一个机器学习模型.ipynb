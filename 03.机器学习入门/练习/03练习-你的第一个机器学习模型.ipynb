{
 "cells": [
  {
   "cell_type": "markdown",
   "metadata": {},
   "source": [
    "**This notebook is an exercise in the [Introduction to Machine Learning](https://www.kaggle.com/learn/intro-to-machine-learning) course.  You can reference the tutorial at [this link](https://www.kaggle.com/dansbecker/your-first-machine-learning-model).**\n",
    "\n",
    "---\n"
   ]
  },
  {
   "cell_type": "markdown",
   "metadata": {},
   "source": [
    "## 回顾\n",
    "\n",
    "到目前为止，您已经加载了数据，并使用以下代码对其进行了检查。运行此单元格以在上一步中断的地方设置您的编码环境。"
   ]
  },
  {
   "cell_type": "code",
   "execution_count": 18,
   "metadata": {
    "execution": {
     "iopub.execute_input": "2022-06-27T17:18:08.605936Z",
     "iopub.status.busy": "2022-06-27T17:18:08.605394Z",
     "iopub.status.idle": "2022-06-27T17:18:08.642352Z",
     "shell.execute_reply": "2022-06-27T17:18:08.640897Z",
     "shell.execute_reply.started": "2022-06-27T17:18:08.605883Z"
    }
   },
   "outputs": [],
   "source": [
    "# 以前用于加载数据的代码\n",
    "import pandas as pd\n",
    "\n",
    "# 要读取的文件路径\n",
    "iowa_file_path = '../input/home-data-for-ml-course/train.csv'\n",
    "\n",
    "home_data = pd.read_csv(iowa_file_path)\n",
    "\n",
    "# 设置代码检查\n",
    "from learntools.core import binder\n",
    "binder.bind(globals())\n",
    "from learntools.machine_learning.ex3 import *\n",
    "\n",
    "print(\"Setup Complete\")"
   ]
  },
  {
   "cell_type": "markdown",
   "metadata": {},
   "source": [
    "# 练习\n",
    "\n",
    "## 步骤一: 明确预测目标\n",
    "\n",
    "选择与销售价格相对应的目标变量。将其保存到一个名为`y`的新变量中。您需要打印列列表来查找所需列的名称。"
   ]
  },
  {
   "cell_type": "code",
   "execution_count": 19,
   "metadata": {
    "execution": {
     "iopub.execute_input": "2022-06-27T17:18:08.647468Z",
     "iopub.status.busy": "2022-06-27T17:18:08.645098Z",
     "iopub.status.idle": "2022-06-27T17:18:08.658102Z",
     "shell.execute_reply": "2022-06-27T17:18:08.656641Z",
     "shell.execute_reply.started": "2022-06-27T17:18:08.647390Z"
    }
   },
   "outputs": [],
   "source": [
    "# 打印数据集中的列列表以查找预测目标的名称\n",
    "home_data.columns"
   ]
  },
  {
   "cell_type": "code",
   "execution_count": 20,
   "metadata": {
    "execution": {
     "iopub.execute_input": "2022-06-27T17:18:08.662215Z",
     "iopub.status.busy": "2022-06-27T17:18:08.660037Z",
     "iopub.status.idle": "2022-06-27T17:18:08.676887Z",
     "shell.execute_reply": "2022-06-27T17:18:08.675201Z",
     "shell.execute_reply.started": "2022-06-27T17:18:08.662159Z"
    }
   },
   "outputs": [],
   "source": [
    "y = home_data[\"SalePrice\"]\n",
    "\n",
    "# Check your answer\n",
    "step_1.check()"
   ]
  },
  {
   "cell_type": "code",
   "execution_count": 21,
   "metadata": {
    "execution": {
     "iopub.execute_input": "2022-06-27T17:18:08.681846Z",
     "iopub.status.busy": "2022-06-27T17:18:08.681308Z",
     "iopub.status.idle": "2022-06-27T17:18:08.687489Z",
     "shell.execute_reply": "2022-06-27T17:18:08.685749Z",
     "shell.execute_reply.started": "2022-06-27T17:18:08.681812Z"
    }
   },
   "outputs": [],
   "source": [
    "# The lines below will show you a hint or the solution.\n",
    "# step_1.hint() \n",
    "# step_1.solution()"
   ]
  },
  {
   "cell_type": "markdown",
   "metadata": {},
   "source": [
    "## 第二步: 创建 X\n",
    "\n",
    "现在，您将创建一个名为 `X` 的 DataFrame，其中包含有预测性的特征。\n",
    "\n",
    "由于您只需要原始数据中的某些列，因此首先要创建一个列表，其中包含您在 `X` 中需要的列的名称。\n",
    "您将只使用列表中的下列列(您可以复制并粘贴整个列表以节省一些输入，但仍然需要添加引号) :\n",
    "  * LotArea\n",
    "  * YearBuilt\n",
    "  * 1stFlrSF\n",
    "  * 2ndFlrSF\n",
    "  * FullBath\n",
    "  * BedroomAbvGr\n",
    "  * TotRmsAbvGrd\n",
    "\n",
    "创建了该特征列表之后，使用它来创建用于拟合模型的 DataFrame。"
   ]
  },
  {
   "cell_type": "code",
   "execution_count": 22,
   "metadata": {
    "execution": {
     "iopub.execute_input": "2022-06-27T17:18:08.690519Z",
     "iopub.status.busy": "2022-06-27T17:18:08.689677Z",
     "iopub.status.idle": "2022-06-27T17:18:08.707728Z",
     "shell.execute_reply": "2022-06-27T17:18:08.706244Z",
     "shell.execute_reply.started": "2022-06-27T17:18:08.690469Z"
    }
   },
   "outputs": [],
   "source": [
    "# 创建下面的特征列表\n",
    "feature_names = [\"LotArea\", \"YearBuilt\", \"1stFlrSF\", \"2ndFlrSF\", \"FullBath\", \"BedroomAbvGr\", \"TotRmsAbvGrd\"]\n",
    "\n",
    "# 选择与 Feature_name 中的特征对应的数据\n",
    "X = home_data[feature_names]\n",
    "\n",
    "# Check your answer\n",
    "step_2.check()"
   ]
  },
  {
   "cell_type": "code",
   "execution_count": 23,
   "metadata": {
    "execution": {
     "iopub.execute_input": "2022-06-27T17:18:08.710592Z",
     "iopub.status.busy": "2022-06-27T17:18:08.710150Z",
     "iopub.status.idle": "2022-06-27T17:18:08.717771Z",
     "shell.execute_reply": "2022-06-27T17:18:08.716538Z",
     "shell.execute_reply.started": "2022-06-27T17:18:08.710550Z"
    }
   },
   "outputs": [],
   "source": [
    "# step_2.hint()\n",
    "# step_2.solution()"
   ]
  },
  {
   "cell_type": "markdown",
   "metadata": {},
   "source": [
    "## 检查数据\n",
    "在构建模型之前，快速查看 **X** 以验证它看起来是否合理"
   ]
  },
  {
   "cell_type": "code",
   "execution_count": 24,
   "metadata": {
    "execution": {
     "iopub.execute_input": "2022-06-27T17:18:08.720589Z",
     "iopub.status.busy": "2022-06-27T17:18:08.719377Z",
     "iopub.status.idle": "2022-06-27T17:18:08.760132Z",
     "shell.execute_reply": "2022-06-27T17:18:08.758869Z",
     "shell.execute_reply.started": "2022-06-27T17:18:08.720538Z"
    }
   },
   "outputs": [],
   "source": [
    "# Review data\n",
    "# 打印 X 的描述或统计\n",
    "print(X.describe())\n",
    "\n",
    "# 打印前几行\n",
    "print(X.head())"
   ]
  },
  {
   "cell_type": "markdown",
   "metadata": {},
   "source": [
    "## 步骤3: 指定模型并拟合\n",
    "\n",
    "创建一个 `DecisionTreeRegressor` 并保存为 iowa_model。确保您已经完成了 sklearn 的相关导入以运行此命令。\n",
    "\n",
    "然后使用上面保存的`X`和`y`中的数据来拟合刚才创建的模型。"
   ]
  },
  {
   "cell_type": "code",
   "execution_count": 25,
   "metadata": {
    "execution": {
     "iopub.execute_input": "2022-06-27T17:18:08.762906Z",
     "iopub.status.busy": "2022-06-27T17:18:08.762339Z",
     "iopub.status.idle": "2022-06-27T17:18:08.784869Z",
     "shell.execute_reply": "2022-06-27T17:18:08.783594Z",
     "shell.execute_reply.started": "2022-06-27T17:18:08.762857Z"
    }
   },
   "outputs": [],
   "source": [
    "from sklearn.tree import DecisionTreeRegressor\n",
    "# 指定模型 \n",
    "# 为了模型的可重复性，在指定模型时为 Random_state 设置一个数值\n",
    "iowa_model = DecisionTreeRegressor(random_state=1)\n",
    "\n",
    "# 拟合模型\n",
    "iowa_model.fit(X, y)\n",
    "\n",
    "# Check your answer\n",
    "step_3.check()"
   ]
  },
  {
   "cell_type": "code",
   "execution_count": 26,
   "metadata": {
    "execution": {
     "iopub.execute_input": "2022-06-27T17:18:08.786893Z",
     "iopub.status.busy": "2022-06-27T17:18:08.786561Z",
     "iopub.status.idle": "2022-06-27T17:18:08.791394Z",
     "shell.execute_reply": "2022-06-27T17:18:08.789857Z",
     "shell.execute_reply.started": "2022-06-27T17:18:08.786862Z"
    }
   },
   "outputs": [],
   "source": [
    "# step_3.hint()\n",
    "# step_3.solution()"
   ]
  },
  {
   "cell_type": "markdown",
   "metadata": {},
   "source": [
    "## 第四步: 模型预测\n",
    "使用模型的`predict` 指令以`X`作为数据进行预测。将结果保存到一个名为`predictions`的变量中。"
   ]
  },
  {
   "cell_type": "code",
   "execution_count": 27,
   "metadata": {
    "execution": {
     "iopub.execute_input": "2022-06-27T17:18:08.794929Z",
     "iopub.status.busy": "2022-06-27T17:18:08.794579Z",
     "iopub.status.idle": "2022-06-27T17:18:08.820173Z",
     "shell.execute_reply": "2022-06-27T17:18:08.818660Z",
     "shell.execute_reply.started": "2022-06-27T17:18:08.794898Z"
    }
   },
   "outputs": [],
   "source": [
    "predictions = iowa_model.predict(X)\n",
    "print(predictions)\n",
    "\n",
    "# Check your answer\n",
    "step_4.check()"
   ]
  },
  {
   "cell_type": "code",
   "execution_count": 28,
   "metadata": {
    "execution": {
     "iopub.execute_input": "2022-06-27T17:18:08.857335Z",
     "iopub.status.busy": "2022-06-27T17:18:08.856923Z",
     "iopub.status.idle": "2022-06-27T17:18:08.862481Z",
     "shell.execute_reply": "2022-06-27T17:18:08.861221Z",
     "shell.execute_reply.started": "2022-06-27T17:18:08.857302Z"
    }
   },
   "outputs": [],
   "source": [
    "# step_4.hint()\n",
    "# step_4.solution()"
   ]
  },
  {
   "cell_type": "markdown",
   "metadata": {},
   "source": [
    "## 关于结果的思考\n",
    "\n",
    "使用`head`方法将前几个预测值与这些房子的实际价值(以`y`表示)进行比较。有什么惊喜吗？"
   ]
  },
  {
   "cell_type": "code",
   "execution_count": 29,
   "metadata": {
    "execution": {
     "iopub.execute_input": "2022-06-27T17:18:08.864591Z",
     "iopub.status.busy": "2022-06-27T17:18:08.864135Z",
     "iopub.status.idle": "2022-06-27T17:18:08.875735Z",
     "shell.execute_reply": "2022-06-27T17:18:08.874170Z",
     "shell.execute_reply.started": "2022-06-27T17:18:08.864560Z"
    }
   },
   "outputs": [],
   "source": [
    "# You can write code in this cell\n",
    "print(y.head())"
   ]
  },
  {
   "cell_type": "markdown",
   "metadata": {},
   "source": [
    "很自然地，人们会问，这个模型的预测有多准确，以及如何才能改进它。那就是你的下一步。\n",
    "\n",
    "# 继续\n",
    "\n",
    "你已经准备好进入 **[Model Validation](https://www.kaggle.com/dansbecker/model-validation).**\n"
   ]
  },
  {
   "cell_type": "markdown",
   "metadata": {},
   "source": [
    "---\n",
    "\n",
    "\n",
    "\n",
    "\n",
    "*Have questions or comments? Visit the [course discussion forum](https://www.kaggle.com/learn/intro-to-machine-learning/discussion) to chat with other learners.*"
   ]
  }
 ],
 "metadata": {
  "kernelspec": {
   "display_name": "Python 3",
   "language": "python",
   "name": "python3"
  },
  "language_info": {
   "codemirror_mode": {
    "name": "ipython",
    "version": 3
   },
   "file_extension": ".py",
   "mimetype": "text/x-python",
   "name": "python",
   "nbconvert_exporter": "python",
   "pygments_lexer": "ipython3",
   "version": "3.8.8"
  }
 },
 "nbformat": 4,
 "nbformat_minor": 4
}
