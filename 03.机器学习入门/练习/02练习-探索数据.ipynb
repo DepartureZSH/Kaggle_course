{
 "cells": [
  {
   "cell_type": "markdown",
   "metadata": {},
   "source": [
    "**[Machine Learning Course Home Page](https://www.kaggle.com/learn/machine-learning)**\n",
    "\n",
    "---\n"
   ]
  },
  {
   "cell_type": "markdown",
   "metadata": {},
   "source": [
    "这个练习将测试您读取数据文件并了解数据统计信息的能力。\n",
    "\n",
    "在后续的练习中，您将应用此技巧来过滤数据，构建机器学习模型，并迭代改进您的模型。\n",
    "\n",
    "本课程示例使用来自墨尔本的数据。为确保您能够自己应用这些技术，您将需要将它们应用于一个新的数据集（其中包含来自爱荷华州的房价数据）。\n",
    "\n",
    "这些练习使用“笔记本”编码环境。如果您不熟悉笔记本，请观看我们的[90秒介绍视频](https://www.youtube.com/watch?v=4C2qMnaIKL4)。\n",
    "\n",
    "# 练习\n",
    "运行以下单元格以设置代码检查，这将在您进行工作时验证您的工作。"
   ]
  },
  {
   "cell_type": "code",
   "execution_count": 1,
   "metadata": {
    "execution": {
     "iopub.execute_input": "2022-06-27T13:12:18.111164Z",
     "iopub.status.busy": "2022-06-27T13:12:18.110360Z",
     "iopub.status.idle": "2022-06-27T13:12:18.184974Z",
     "shell.execute_reply": "2022-06-27T13:12:18.183978Z",
     "shell.execute_reply.started": "2022-06-27T13:12:18.111055Z"
    }
   },
   "outputs": [],
   "source": [
    "# Set up code checking\n",
    "from learntools.core import binder\n",
    "binder.bind(globals())\n",
    "from learntools.machine_learning.ex2 import *\n",
    "print(\"Setup Complete\")"
   ]
  },
  {
   "cell_type": "markdown",
   "metadata": {},
   "source": [
    "## 步骤一：数据载入\n",
    "将爱荷华州的数据文件读入名为`home_data`的Pandas DataFrame中"
   ]
  },
  {
   "cell_type": "code",
   "execution_count": 2,
   "metadata": {
    "execution": {
     "iopub.execute_input": "2022-06-27T13:13:24.047322Z",
     "iopub.status.busy": "2022-06-27T13:13:24.046865Z",
     "iopub.status.idle": "2022-06-27T13:13:24.108642Z",
     "shell.execute_reply": "2022-06-27T13:13:24.107344Z",
     "shell.execute_reply.started": "2022-06-27T13:13:24.047284Z"
    }
   },
   "outputs": [],
   "source": [
    "import pandas as pd\n",
    "\n",
    "# Path of the file to read\n",
    "iowa_file_path = '../input/home-data-for-ml-course/train.csv'\n",
    "\n",
    "# Fill in the line below to read the file into a variable home_data\n",
    "home_data = pd.read_csv(iowa_file_path)\n",
    "\n",
    "# Call line below with no argument to check that you've loaded the data correctly\n",
    "step_1.check()"
   ]
  },
  {
   "cell_type": "code",
   "execution_count": null,
   "metadata": {
    "collapsed": true,
    "jupyter": {
     "outputs_hidden": true
    }
   },
   "outputs": [],
   "source": [
    "# Lines below will give you a hint or solution code\n",
    "#step_1.hint()\n",
    "#step_1.solution()"
   ]
  },
  {
   "cell_type": "markdown",
   "metadata": {},
   "source": [
    "## Step 2: Review The Data\n",
    "## 步骤二：查看数据\n",
    "使用所学的命令查看数据的摘要统计信息。然后填写变量来回答以下问题"
   ]
  },
  {
   "cell_type": "code",
   "execution_count": 3,
   "metadata": {
    "execution": {
     "iopub.execute_input": "2022-06-27T13:13:37.476027Z",
     "iopub.status.busy": "2022-06-27T13:13:37.475547Z",
     "iopub.status.idle": "2022-06-27T13:13:37.908517Z",
     "shell.execute_reply": "2022-06-27T13:13:37.907410Z",
     "shell.execute_reply.started": "2022-06-27T13:13:37.475991Z"
    }
   },
   "outputs": [],
   "source": [
    "# Print summary statistics in next line\n",
    "home_data.describe()"
   ]
  },
  {
   "cell_type": "code",
   "execution_count": 5,
   "metadata": {
    "execution": {
     "iopub.execute_input": "2022-06-27T13:15:14.173501Z",
     "iopub.status.busy": "2022-06-27T13:15:14.173050Z",
     "iopub.status.idle": "2022-06-27T13:15:14.183504Z",
     "shell.execute_reply": "2022-06-27T13:15:14.182316Z",
     "shell.execute_reply.started": "2022-06-27T13:15:14.173461Z"
    }
   },
   "outputs": [],
   "source": [
    "# What is the average lot size (rounded to nearest integer)?\n",
    "avg_lot_size = 10517\n",
    "\n",
    "# As of today, how old is the newest home (current year - the date in which it was built)\n",
    "newest_home_age = \"\"\"current year\"\"\" - 2010\n",
    "\n",
    "# Checks your answers\n",
    "step_2.check()"
   ]
  },
  {
   "cell_type": "code",
   "execution_count": null,
   "metadata": {
    "collapsed": true,
    "jupyter": {
     "outputs_hidden": true
    }
   },
   "outputs": [],
   "source": [
    "#step_2.hint()\n",
    "#step_2.solution()"
   ]
  },
  {
   "cell_type": "markdown",
   "metadata": {},
   "source": [
    "## 关于数据的思考\n",
    "\n",
    "你数据中最新的房屋其实并不那么新。有几个可能的解释：\n",
    "\n",
    "1. 在数据采集地没有新建房屋。\n",
    "2. 该数据是很久以前采集的。数据发布后建造的房屋不会显示出来。\n",
    "如果原因是上述的解释 #1 ，那么这是否会影响您对使用这些数据构建的模型的信任？如果原因是 #2 呢？\n",
    "\n",
    "你如何挖掘数据来验证哪个解释似乎更合理？\n",
    "\n",
    "查看此 **[讨论主题](https://www.kaggle.com/learn-forum/60581)**，了解其他人的想法或添加你的想法。\n",
    "\n",
    "# 继续前行\n",
    "你已准备好进行 **[你的第一个机器学习模型](https://www.kaggle.com/dansbecker/your-first-machine-learning-model).**。\n"
   ]
  },
  {
   "cell_type": "markdown",
   "metadata": {},
   "source": [
    "---\n",
    "**[Machine Learning Course Home Page](https://www.kaggle.com/learn/machine-learning)**\n",
    "\n"
   ]
  }
 ],
 "metadata": {
  "kernelspec": {
   "display_name": "Python 3",
   "language": "python",
   "name": "python3"
  },
  "language_info": {
   "codemirror_mode": {
    "name": "ipython",
    "version": 3
   },
   "file_extension": ".py",
   "mimetype": "text/x-python",
   "name": "python",
   "nbconvert_exporter": "python",
   "pygments_lexer": "ipython3",
   "version": "3.8.8"
  }
 },
 "nbformat": 4,
 "nbformat_minor": 4
}
