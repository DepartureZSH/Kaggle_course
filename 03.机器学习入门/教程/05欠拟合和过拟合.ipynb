{
 "cells": [
  {
   "cell_type": "markdown",
   "id": "7e562b6b",
   "metadata": {
    "papermill": {
     "duration": 0.007255,
     "end_time": "2021-11-09T00:01:48.945015",
     "exception": false,
     "start_time": "2021-11-09T00:01:48.937760",
     "status": "completed"
    },
    "tags": []
   },
   "source": [
    "在这一步结束时，您将理解过拟合和欠拟合的概念，并能够应用这些想法使您的模型更精确。\n",
    "\n",
    "# 模型实验\n",
    "\n",
    "既然您有了一个可靠的方式来测量模型的准确性，您可以尝试使用其他模型并查看哪个能够提供最佳的预测。但是，您可以为模型提供哪些备选方案呢？\n",
    "\n",
    "在scikit-learn的[文档](http://scikit-learn.org/stable/modules/generated/sklearn.tree.DecisionTreeRegressor.html)中，您可以看到决策树模型有许多选项（您长时间内可能都不需要或不想用到）。最重要的选项决定了树的深度。请回忆一下[本课程第一篇文章](https://www.kaggle.com/dansbecker/how-models-work)中介绍的，决策树的深度是一种度量它在进行预测前多少次分裂的指标。这是一棵相对较浅的树。\n",
    "\n",
    "![Depth 2 Tree](https://images.weserv.nl/?url=i.imgur.com/R3ywQsR.png)\n",
    "\n",
    "在实践中，一棵树在顶层（所有房屋）和一个叶子节点之间分裂成10个部分并不罕见。随着树越来越深，数据集被切割成房屋更少的叶子节点。如果一棵树只有一个分叉，它将数据分为两组。如果每个组再次分叉，我们将得到4组房屋。如果我们通过在每一层添加更多的分叉来不断加倍分组数量，那么到达第10个级别时，我们将拥有\\\\(2^{10}\\\\)个房屋组。即1024个叶子。\n",
    "\n",
    "当我们将房屋分配给许多叶子节点时，每个叶子节点中也有较少的房屋。房屋非常少的叶子节点将给出非常接近这些房屋实际值的预测，但它们可能会为新数据提供非常不可靠的预测（因为每个预测仅基于几个房屋）。\n",
    "\n",
    "这种现象被称为 **过度拟合**，其中模型几乎完美地匹配训练数据，但在验证和其他新数据上表现不佳。相反，如果树非常浅，它就不会将房屋分成非常不同的群组。\n",
    "\n",
    "在极端情况下，如果一棵树只把房子分成2或4组，那么每个组仍然有多种类型的房屋。得到的预测可能对大多数房屋而言都偏差很大，即使在训练数据中也是如此（由于同样的原因，验证也会很糟糕）。当模型无法捕捉数据中的重要差异和模式时，所以它在训练数据中表现不佳，那就是 **欠拟合**。\n",
    "\n",
    "由于我们关心新数据的准确性，我们从验证数据中估计它，我们想要找到欠拟合和过度拟合之间的最佳平衡点。从可视化的角度来看，我们想要在下图中（红色）验证曲线的最低点。\n",
    "\n",
    "![underfitting_overfitting](https://images.weserv.nl/?url=i.imgur.com/AXSEOfI.png)\n",
    "\n",
    "# 例子\n",
    "\n",
    "有一些控制树深度的替代方法，许多方法允许通过树的一些路线比其他路线具有更大的深度。但是 *max _leaf_node* 参数提供了一种非常合理的方法来控制过拟合和不适合。我们允许模型生成的叶子越多，我们从上图中的欠拟合区域越容易移动到过拟合区域。\n",
    "\n",
    "我们可以使用一个实用函数来帮助比较不同值 *max_leaf_node* 的 MAE 得分:\n"
   ]
  },
  {
   "cell_type": "code",
   "execution_count": 1,
   "id": "34810c80",
   "metadata": {
    "collapsed": true,
    "execution": {
     "iopub.execute_input": "2021-11-09T00:01:48.969349Z",
     "iopub.status.busy": "2021-11-09T00:01:48.965099Z",
     "iopub.status.idle": "2021-11-09T00:01:50.251307Z",
     "shell.execute_reply": "2021-11-09T00:01:50.250549Z"
    },
    "papermill": {
     "duration": 1.300336,
     "end_time": "2021-11-09T00:01:50.251504",
     "exception": false,
     "start_time": "2021-11-09T00:01:48.951168",
     "status": "completed"
    },
    "tags": []
   },
   "outputs": [],
   "source": [
    "from sklearn.metrics import mean_absolute_error\n",
    "from sklearn.tree import DecisionTreeRegressor\n",
    "\n",
    "def get_mae(max_leaf_nodes, train_X, val_X, train_y, val_y):\n",
    "    model = DecisionTreeRegressor(max_leaf_nodes=max_leaf_nodes, random_state=0)\n",
    "    model.fit(train_X, train_y)\n",
    "    preds_val = model.predict(val_X)\n",
    "    mae = mean_absolute_error(val_y, preds_val)\n",
    "    return(mae)"
   ]
  },
  {
   "cell_type": "markdown",
   "id": "61f173cf",
   "metadata": {
    "papermill": {
     "duration": 0.006012,
     "end_time": "2021-11-09T00:01:50.264188",
     "exception": false,
     "start_time": "2021-11-09T00:01:50.258176",
     "status": "completed"
    },
    "tags": []
   },
   "source": [
    "数据被加载到 **train_X** 、**val_X** 、**train_y** 和 **val_y** 中，使用您已经看到的代码(以及您已经编写的代码)。"
   ]
  },
  {
   "cell_type": "code",
   "execution_count": 2,
   "id": "54faafc8",
   "metadata": {
    "_kg_hide-input": true,
    "_kg_hide-output": true,
    "collapsed": true,
    "execution": {
     "iopub.execute_input": "2021-11-09T00:01:50.280326Z",
     "iopub.status.busy": "2021-11-09T00:01:50.279611Z",
     "iopub.status.idle": "2021-11-09T00:01:50.412378Z",
     "shell.execute_reply": "2021-11-09T00:01:50.411756Z"
    },
    "papermill": {
     "duration": 0.142013,
     "end_time": "2021-11-09T00:01:50.412538",
     "exception": false,
     "start_time": "2021-11-09T00:01:50.270525",
     "status": "completed"
    },
    "tags": []
   },
   "outputs": [],
   "source": [
    "# 数据加载代码此时运行\n",
    "import pandas as pd\n",
    "\n",
    "# Load data\n",
    "melbourne_file_path = '../input/melbourne-housing-snapshot/melb_data.csv'\n",
    "melbourne_data = pd.read_csv(melbourne_file_path) \n",
    "# Filter rows with missing values\n",
    "filtered_melbourne_data = melbourne_data.dropna(axis=0)\n",
    "# Choose target and features\n",
    "y = filtered_melbourne_data.Price\n",
    "melbourne_features = ['Rooms', 'Bathroom', 'Landsize', 'BuildingArea', \n",
    "                        'YearBuilt', 'Lattitude', 'Longtitude']\n",
    "X = filtered_melbourne_data[melbourne_features]\n",
    "\n",
    "from sklearn.model_selection import train_test_split\n",
    "\n",
    "# split data into training and validation data, for both features and target\n",
    "train_X, val_X, train_y, val_y = train_test_split(X, y,random_state = 0)"
   ]
  },
  {
   "cell_type": "markdown",
   "id": "08de04c1",
   "metadata": {
    "papermill": {
     "duration": 0.008353,
     "end_time": "2021-11-09T00:01:50.427350",
     "exception": false,
     "start_time": "2021-11-09T00:01:50.418997",
     "status": "completed"
    },
    "tags": []
   },
   "source": [
    "我们可以使用 for 循环来比较用不同值构建的模型对 *max_leaf_node* 的准确性。"
   ]
  },
  {
   "cell_type": "code",
   "execution_count": 3,
   "id": "b8cef8ad",
   "metadata": {
    "execution": {
     "iopub.execute_input": "2021-11-09T00:01:50.448695Z",
     "iopub.status.busy": "2021-11-09T00:01:50.447607Z",
     "iopub.status.idle": "2021-11-09T00:01:50.544210Z",
     "shell.execute_reply": "2021-11-09T00:01:50.543522Z"
    },
    "papermill": {
     "duration": 0.110697,
     "end_time": "2021-11-09T00:01:50.544357",
     "exception": false,
     "start_time": "2021-11-09T00:01:50.433660",
     "status": "completed"
    },
    "tags": []
   },
   "outputs": [
    {
     "name": "stdout",
     "output_type": "stream",
     "text": [
      "Max leaf nodes: 5  \t\t Mean Absolute Error:  347380\n",
      "Max leaf nodes: 50  \t\t Mean Absolute Error:  258171\n",
      "Max leaf nodes: 500  \t\t Mean Absolute Error:  243495\n",
      "Max leaf nodes: 5000  \t\t Mean Absolute Error:  254983\n"
     ]
    }
   ],
   "source": [
    "# 将 MAE 与 max_leaf_node 的不同值进行比较\n",
    "for max_leaf_nodes in [5, 50, 500, 5000]:\n",
    "    my_mae = get_mae(max_leaf_nodes, train_X, val_X, train_y, val_y)\n",
    "    print(\"Max leaf nodes: %d  \\t\\t Mean Absolute Error:  %d\" %(max_leaf_nodes, my_mae))"
   ]
  },
  {
   "cell_type": "markdown",
   "id": "36e34286",
   "metadata": {
    "papermill": {
     "duration": 0.006759,
     "end_time": "2021-11-09T00:01:50.558181",
     "exception": false,
     "start_time": "2021-11-09T00:01:50.551422",
     "status": "completed"
    },
    "tags": []
   },
   "source": [
    "\n",
    "在所列出的选项中，500张是最佳的叶子数量\n",
    "\n",
    "---\n",
    "\n",
    "# 总结\n",
    "\n",
    "Here's the takeaway: Models can suffer from either:\n",
    "- **Overfitting:** capturing spurious patterns that won't recur in the future, leading to less accurate predictions, or \n",
    "- **Underfitting:** failing to capture relevant patterns, again leading to less accurate predictions. \n",
    "\n",
    "We use **validation** data, which isn't used in model training, to measure a candidate model's accuracy. This lets us try many candidate models and keep the best one. \n",
    "\n",
    "以下是我们的要点: 模型可能会遭遇以下两种情况:\n",
    "- **过度拟合:** 捕获到在未来不会重现的假模式，导致预测不太准确，或者\n",
    "- **欠拟合:** 未能捕捉到相关的模式，再次导致预测不准确。\n",
    "我们模型训练中没有使用 **验证数据** 来衡量候选模型的准确性。这让我们可以尝试许多候选模型，并保持最好的一个。\n",
    "\n",
    "# 练习时间\n",
    "\n",
    "试试 **[优化先前建立的模型](https://www.kaggle.com/kernels/fork/1259126)**."
   ]
  },
  {
   "cell_type": "markdown",
   "id": "c75130c0",
   "metadata": {
    "papermill": {
     "duration": 0.007041,
     "end_time": "2021-11-09T00:01:50.572268",
     "exception": false,
     "start_time": "2021-11-09T00:01:50.565227",
     "status": "completed"
    },
    "tags": []
   },
   "source": [
    "---\n",
    "\n",
    "\n",
    "\n",
    "\n",
    "*Have questions or comments? Visit the [course discussion forum](https://www.kaggle.com/learn/intro-to-machine-learning/discussion) to chat with other learners.*"
   ]
  }
 ],
 "metadata": {
  "kernelspec": {
   "display_name": "Python 3",
   "language": "python",
   "name": "python3"
  },
  "language_info": {
   "codemirror_mode": {
    "name": "ipython",
    "version": 3
   },
   "file_extension": ".py",
   "mimetype": "text/x-python",
   "name": "python",
   "nbconvert_exporter": "python",
   "pygments_lexer": "ipython3",
   "version": "3.8.8"
  },
  "papermill": {
   "default_parameters": {},
   "duration": 12.169697,
   "end_time": "2021-11-09T00:01:51.292001",
   "environment_variables": {},
   "exception": null,
   "input_path": "__notebook__.ipynb",
   "output_path": "__notebook__.ipynb",
   "parameters": {},
   "start_time": "2021-11-09T00:01:39.122304",
   "version": "2.3.3"
  }
 },
 "nbformat": 4,
 "nbformat_minor": 5
}
