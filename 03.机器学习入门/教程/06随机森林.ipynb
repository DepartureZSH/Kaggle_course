{
 "cells": [
  {
   "cell_type": "markdown",
   "id": "23136f04",
   "metadata": {
    "papermill": {
     "duration": 0.006232,
     "end_time": "2021-11-09T00:03:16.069313",
     "exception": false,
     "start_time": "2021-11-09T00:03:16.063081",
     "status": "completed"
    },
    "tags": []
   },
   "source": [
    "# 介绍\n",
    "\n",
    "决策树让你面临一个难以决定的问题。一个带有很多叶子的深树会过度拟合，因为每个预测只来自于其叶子上的几栋房屋的历史数据。但是，叶子较少的浅树性能表现不佳，因为它无法捕捉原始数据中的许多差异。\n",
    "\n",
    "即使是今天最先进的建模技术也面临着欠拟合和过拟合之间的紧张关系。但是，许多模型都有巧妙的想法，可以带来更好的性能。我们将以**随机森林**为例。\n",
    "\n",
    "随机森林使用多棵树，并通过平均每个组件树的预测来进行预测。它通常比单个决策树具有更好的预测准确性，并且在默认参数下工作得很好。如果你继续建模，你可以学习更多性能更好的模型，但其中许多模型对于获得正确的参数非常敏感。\n",
    "\n",
    "# 例子\n",
    "你已经多次看到了加载数据的代码。在数据加载结束时，我们有以下变量：\n",
    "- train_X\n",
    "- val_X\n",
    "- train_y\n",
    "- val_y"
   ]
  },
  {
   "cell_type": "code",
   "execution_count": 1,
   "id": "3af5bfaf",
   "metadata": {
    "_kg_hide-input": true,
    "_kg_hide-output": true,
    "collapsed": true,
    "execution": {
     "iopub.execute_input": "2021-11-09T00:03:16.086978Z",
     "iopub.status.busy": "2021-11-09T00:03:16.083628Z",
     "iopub.status.idle": "2021-11-09T00:03:17.190166Z",
     "shell.execute_reply": "2021-11-09T00:03:17.189513Z"
    },
    "papermill": {
     "duration": 1.114736,
     "end_time": "2021-11-09T00:03:17.190332",
     "exception": false,
     "start_time": "2021-11-09T00:03:16.075596",
     "status": "completed"
    },
    "tags": []
   },
   "outputs": [],
   "source": [
    "import pandas as pd\n",
    "    \n",
    "# Load data\n",
    "melbourne_file_path = '../input/melbourne-housing-snapshot/melb_data.csv'\n",
    "melbourne_data = pd.read_csv(melbourne_file_path) \n",
    "# Filter rows with missing values\n",
    "melbourne_data = melbourne_data.dropna(axis=0)\n",
    "# Choose target and features\n",
    "y = melbourne_data.Price\n",
    "melbourne_features = ['Rooms', 'Bathroom', 'Landsize', 'BuildingArea', \n",
    "                        'YearBuilt', 'Lattitude', 'Longtitude']\n",
    "X = melbourne_data[melbourne_features]\n",
    "\n",
    "from sklearn.model_selection import train_test_split\n",
    "\n",
    "# split data into training and validation data, for both features and target\n",
    "# The split is based on a random number generator. Supplying a numeric value to\n",
    "# the random_state argument guarantees we get the same split every time we\n",
    "# run this script.\n",
    "train_X, val_X, train_y, val_y = train_test_split(X, y,random_state = 0)"
   ]
  },
  {
   "cell_type": "markdown",
   "id": "398cc31b",
   "metadata": {
    "papermill": {
     "duration": 0.00396,
     "end_time": "2021-11-09T00:03:17.198773",
     "exception": false,
     "start_time": "2021-11-09T00:03:17.194813",
     "status": "completed"
    },
    "tags": []
   },
   "source": [
    "我们构建了一个随机森林模型，类似于我们在 scikit-learn 中构建决策树的方法——这次使用的是`RandomForestRegressor`类，而不是`DecisionTreeRegressor`。"
   ]
  },
  {
   "cell_type": "code",
   "execution_count": 2,
   "id": "fb800b15",
   "metadata": {
    "execution": {
     "iopub.execute_input": "2021-11-09T00:03:17.212333Z",
     "iopub.status.busy": "2021-11-09T00:03:17.211649Z",
     "iopub.status.idle": "2021-11-09T00:03:19.471573Z",
     "shell.execute_reply": "2021-11-09T00:03:19.472050Z"
    },
    "papermill": {
     "duration": 2.269374,
     "end_time": "2021-11-09T00:03:19.472229",
     "exception": false,
     "start_time": "2021-11-09T00:03:17.202855",
     "status": "completed"
    },
    "tags": []
   },
   "outputs": [
    {
     "name": "stdout",
     "output_type": "stream",
     "text": [
      "191669.7536453626\n"
     ]
    }
   ],
   "source": [
    "from sklearn.ensemble import RandomForestRegressor\n",
    "from sklearn.metrics import mean_absolute_error\n",
    "\n",
    "forest_model = RandomForestRegressor(random_state=1)\n",
    "forest_model.fit(train_X, train_y)\n",
    "melb_preds = forest_model.predict(val_X)\n",
    "print(mean_absolute_error(val_y, melb_preds))"
   ]
  },
  {
   "cell_type": "markdown",
   "id": "55541da2",
   "metadata": {
    "papermill": {
     "duration": 0.00392,
     "end_time": "2021-11-09T00:03:19.483003",
     "exception": false,
     "start_time": "2021-11-09T00:03:19.479083",
     "status": "completed"
    },
    "tags": []
   },
   "source": [
    "# 总结\n",
    "可能还有进一步改进的空间，但这比最佳决策树错误(250,000)要好得多。有一些参数允许您改变随机森林的性能，就像我们改变单个决策树的最大深度一样。但是，随机森林模型最好的特性之一是，即使没有这种调优，它们通常也能合理地工作。\n",
    "\n",
    "# 练习时间\n",
    "试试 **[使用Random Forest模型](https://www.kaggle.com/kernels/fork/1259186)** 看看它对你的模型有多大的改进。"
   ]
  },
  {
   "cell_type": "markdown",
   "id": "cc38189a",
   "metadata": {
    "papermill": {
     "duration": 0.003848,
     "end_time": "2021-11-09T00:03:19.491012",
     "exception": false,
     "start_time": "2021-11-09T00:03:19.487164",
     "status": "completed"
    },
    "tags": []
   },
   "source": [
    "---\n",
    "\n",
    "\n",
    "\n",
    "\n",
    "*Have questions or comments? Visit the [course discussion forum](https://www.kaggle.com/learn/intro-to-machine-learning/discussion) to chat with other learners.*"
   ]
  }
 ],
 "metadata": {
  "kernelspec": {
   "display_name": "Python 3",
   "language": "python",
   "name": "python3"
  },
  "language_info": {
   "codemirror_mode": {
    "name": "ipython",
    "version": 3
   },
   "file_extension": ".py",
   "mimetype": "text/x-python",
   "name": "python",
   "nbconvert_exporter": "python",
   "pygments_lexer": "ipython3",
   "version": "3.8.8"
  },
  "papermill": {
   "default_parameters": {},
   "duration": 12.470934,
   "end_time": "2021-11-09T00:03:20.206628",
   "environment_variables": {},
   "exception": null,
   "input_path": "__notebook__.ipynb",
   "output_path": "__notebook__.ipynb",
   "parameters": {},
   "start_time": "2021-11-09T00:03:07.735694",
   "version": "2.3.3"
  }
 },
 "nbformat": 4,
 "nbformat_minor": 5
}
