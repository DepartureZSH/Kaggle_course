{
 "cells": [
  {
   "cell_type": "markdown",
   "id": "adc856bb",
   "metadata": {
    "papermill": {
     "duration": 0.00383,
     "end_time": "2021-11-09T00:03:02.318453",
     "exception": false,
     "start_time": "2021-11-09T00:03:02.314623",
     "status": "completed"
    },
    "tags": []
   },
   "source": [
    "机器学习比赛是提高数据科学技能并衡量自己进展的好方法。\n",
    "\n",
    "在下一个练习中，您将创建并提交一个[房价比赛的预测](https://www.kaggle.com/c/home-data-for-ml-course)，该比赛是为Kaggle学习用户而设立的。\n",
    "\n",
    "![join competition image](https://images.weserv.nl/?url=i.imgur.com/axBzctl.png)\n",
    "\n",
    "# 练习时间\n",
    "利用课程中所学知识参加Kaggle比赛并 **[提交](https://www.kaggle.com/kernels/fork/1259198)** 作品吧！"
   ]
  },
  {
   "cell_type": "markdown",
   "id": "94b7cbec",
   "metadata": {
    "papermill": {
     "duration": 0.002299,
     "end_time": "2021-11-09T00:03:02.323917",
     "exception": false,
     "start_time": "2021-11-09T00:03:02.321618",
     "status": "completed"
    },
    "tags": []
   },
   "source": [
    "---\n",
    "\n",
    "\n",
    "\n",
    "\n",
    "*Have questions or comments? Visit the [course discussion forum](https://www.kaggle.com/learn/intro-to-machine-learning/discussion) to chat with other learners.*"
   ]
  }
 ],
 "metadata": {
  "kernelspec": {
   "display_name": "Python 3",
   "language": "python",
   "name": "python3"
  },
  "language_info": {
   "codemirror_mode": {
    "name": "ipython",
    "version": 3
   },
   "file_extension": ".py",
   "mimetype": "text/x-python",
   "name": "python",
   "nbconvert_exporter": "python",
   "pygments_lexer": "ipython3",
   "version": "3.8.8"
  },
  "papermill": {
   "default_parameters": {},
   "duration": 11.078893,
   "end_time": "2021-11-09T00:03:03.242914",
   "environment_variables": {},
   "exception": null,
   "input_path": "__notebook__.ipynb",
   "output_path": "__notebook__.ipynb",
   "parameters": {},
   "start_time": "2021-11-09T00:02:52.164021",
   "version": "2.3.3"
  }
 },
 "nbformat": 4,
 "nbformat_minor": 5
}
